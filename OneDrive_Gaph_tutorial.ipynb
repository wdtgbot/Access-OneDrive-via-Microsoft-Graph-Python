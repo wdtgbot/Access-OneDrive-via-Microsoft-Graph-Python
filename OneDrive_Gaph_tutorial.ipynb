{
 "cells": [
  {
   "cell_type": "code",
   "execution_count": 1,
   "metadata": {},
   "outputs": [],
   "source": [
    "# Program: Accessing OneDrive via Graph API\n",
    "# Author: Pranab Das (Twitter: @Pranab_Das)\n",
    "# Version: 20210820"
   ]
  },
  {
   "cell_type": "code",
   "execution_count": 2,
   "metadata": {},
   "outputs": [],
   "source": [
    "# requirements\n",
    "import requests\n",
    "import json\n",
    "import urllib\n",
    "import os\n",
    "from getpass import getpass\n",
    "import time\n",
    "from datetime import datetime"
   ]
  },
  {
   "cell_type": "markdown",
   "metadata": {},
   "source": [
    "## Get Access token\n",
    "\n",
    "### Token flow authentication"
   ]
  },
  {
   "cell_type": "code",
   "execution_count": 3,
   "metadata": {},
   "outputs": [
    {
     "name": "stdout",
     "output_type": "stream",
     "text": [
      "Click over this link https://login.microsoftonline.com/common/oauth2/v2.0/authorize?client_id=362422eb-d9d6-4245-9eca-2be5cf256450&scope=files.readwrite&response_type=token&redirect_uri=http%3A//localhost%3A8080/\n",
      "Sign in to your account, copy the whole redirected URL.\n",
      "Paste the URL here :http://localhost:8080/#access_token=EwBYA8l6BAAUO9chh8cJscQLmU%2bLSWpbnr0vmwwAAXbgH8Q919pMC8ErHXfcrM/uuPvmmsIyKar8nmAp1mvv/0QwrjAkSBM8Y6sJqpPEPrGKBrDHairoIVrQK7FhGCtYLGEy3P88wnaKGr4NYygckbi2g6P4S5KPt7d3m3/7XuAhLips6jwD3X8g89a72SajQaa1xbPFw2TfUed/UG6kqUxzlVUy4gkPCBMm%2bizQ3mP7lXRbmeXqCY5omTSQz6djvkCcjXf9TqC1WfVpRLHGc7yLUPcg15nGmdMfwRxWDxYi8rlD34Y0cVYt4KYw3B2VkdxyMvCWqARgauWApLYTFopGZIUQ8M0Fggb89PncdhHInKehD8Rp7rkBJIhkfIIDZgAACBnA%2btK5eKnhKAJmVnI6%2b2MwF54q9NR04O9xTn0Py/uOJPpyGeAtMRBgHTSI6Eh/Bwr/ybQh2TMbfNBbqpOEjPYx0KDhDhrcS1LldJKKoYj2EOREEkwKZNKYfmTdO1jWQ/MohoOFawGB29gdSyJxkqgRHrC2RedL3wFYMOxE78ehVvfCl1/UqBR4Z4ypPMZ%2bsFlyCOCQ6E2fiLyJt0AF5wZencLGoAhXdlh/gIDVZuSZBVQXZuEP19d07IGqLmwDoVnhecniQMjy3cLVQ5v0vlT15b/GpuESNhtgrdQwGT307F9gHPVO6U9UMzfT1iEx%2bjqOBR5paJz8OiIZOG3SZmqZFB4c606Vycio3BVnkXyNlf6kBZfJMNVLB4IubmXSbM%2byFjadP1Cq3pc2dsQRx%2bMqhYCDYS%2bYm4yBqHW0r/XfLrs/QmiIgVtAneHyw99TYVFEO2sqM3MLPZS1W8Wm0cFvwvfxuDI4cDllhjkX5jPy0wSD35c9rDZ8gwWdpR1x6Xc/XaTsn1eQEb9CcsZxyyIeJ6SA9t2kysZ1udqbu4xqIuMt3QtIdYA3tDDIg9IPJtF7tuC48G5tjm7BlfOANxhfsg8USYtjovd3KC4Jl4w87OBeiGrRQgaoI4pEfZVgYPa4TuOYe6ZuYCEyNW8GYumvetzmkRkrMBwicAqJ5KXVco5Lird6gCbQSWFjBTfxtdzXFKCiEgcQSDAm88xTwN2LvBKsrbV17QkEyNYqcVzo1CdsAg%3d%3d&token_type=bearer&expires_in=3600&scope=Files.ReadWrite%20Files.ReadWrite.All\n",
      "Connected to the OneDrive of  ( personal ). \n",
      "Connection valid for one hour. Reauthenticate if required.\n"
     ]
    }
   ],
   "source": [
    "URL = 'https://login.microsoftonline.com/common/oauth2/v2.0/authorize'\n",
    "client_id = \"362422eb-d9d6-4245-9eca-2be5cf256450\" \n",
    "permissions = ['files.readwrite']\n",
    "response_type = 'token'\n",
    "redirect_uri = 'http://localhost:8080/' \n",
    "scope = ''\n",
    "for items in range(len(permissions)):\n",
    "    scope = scope + permissions[items]\n",
    "    if items < len(permissions)-1:\n",
    "        scope = scope + '+'\n",
    "        \n",
    "print('Click over this link ' +URL + '?client_id=' + client_id + '&scope=' + scope + '&response_type=' + response_type+\\\n",
    "     '&redirect_uri=' + urllib.parse.quote(redirect_uri))\n",
    "print('Sign in to your account, copy the whole redirected URL.')\n",
    "code = input(\"Paste the URL here :\")\n",
    "token = code[(code.find('access_token') + len('access_token') + 1) : (code.find('&token_type'))]\n",
    "URL = 'https://graph.microsoft.com/v1.0/' \n",
    "HEADERS = {'Authorization': 'Bearer ' + token}\n",
    "response = requests.get(URL + 'me/drive/', headers = HEADERS)\n",
    "if (response.status_code == 200):\n",
    "    response = json.loads(response.text)\n",
    "    print('Connected to the OneDrive of', response['owner']['user']['displayName']+' (',response['driveType']+' ).', \\\n",
    "         '\\nConnection valid for one hour. Reauthenticate if required.')\n",
    "elif (response.status_code == 401):\n",
    "    response = json.loads(response.text)\n",
    "    print('API Error! : ', response['error']['code'],\\\n",
    "         '\\nSee response for more details.')\n",
    "else: \n",
    "    response = json.loads(response.text)\n",
    "    print('Unknown error! See response for more details.')"
   ]
  },
  {
   "cell_type": "markdown",
   "metadata": {},
   "source": [
    "Looks all right. We have got the access token, and included in the HEADERS. You can print response to see more. Go ahead with OneDrive operations."
   ]
  },
  {
   "source": [
    "### Code flow authentication\n",
    "\n",
    "Code flow returns both `access_token` and `refresh_token` which can be used to\n",
    "request new `access_token` and `refresh_token` for persistent session. If you \n",
    "are using organization account, you might require consent of organization administrator. \n"
   ],
   "cell_type": "markdown",
   "metadata": {}
  },
  {
   "cell_type": "code",
   "execution_count": null,
   "metadata": {},
   "outputs": [],
   "source": [
    "# Get code\n",
    "URL = 'https://login.microsoftonline.com/common/oauth2/v2.0/authorize'\n",
    "client_id = \"362422eb-d9d6-4245-9eca-2be5cf256450\"\n",
    "permissions = ['offline_access', 'files.readwrite', 'User.Read']\n",
    "response_type = 'code'\n",
    "redirect_uri = 'http://localhost:8080/'\n",
    "scope = ''\n",
    "for items in range(len(permissions)):\n",
    "    scope = scope + permissions[items]\n",
    "    if items < len(permissions)-1:\n",
    "        scope = scope + '+'\n",
    "\n",
    "print('Click over this link ' +URL + '?client_id=' + client_id + '&scope=' + scope + '&response_type=' + response_type+\\\n",
    "     '&redirect_uri=' + urllib.parse.quote(redirect_uri))\n",
    "print('Sign in to your account, copy the whole redirected URL.')\n",
    "code = getpass(\"Paste the URL here :\")\n",
    "code = code[(code.find('?code') + len('?code') + 1) :]\n",
    "\n",
    "URL = 'https://login.microsoftonline.com/common/oauth2/v2.0/token'\n",
    "\n",
    "response = requests.post(URL + '?client_id=' + client_id + '&scope=' + scope + '&grant_type=authorization_code' +\\\n",
    "     '&redirect_uri=' + urllib.parse.quote(redirect_uri)+ '&code=' + code)"
   ]
  },
  {
   "cell_type": "code",
   "execution_count": null,
   "metadata": {},
   "outputs": [],
   "source": [
    "# Get token\n",
    "data = {\n",
    "    \"client_id\": client_id,\n",
    "    \"scope\": permissions,\n",
    "    \"code\": code,\n",
    "    \"redirect_uri\": redirect_uri,\n",
    "    \"grant_type\": 'authorization_code',\n",
    "    \"client_secret\": client_secret\n",
    "}\n",
    "\n",
    "response = requests.post(URL, data=data)\n",
    "\n",
    "token = json.loads(response.text)[\"access_token\"]\n",
    "refresh_token = json.loads(response.text)[\"refresh_token\"]"
   ]
  },
  {
   "cell_type": "code",
   "execution_count": null,
   "metadata": {},
   "outputs": [],
   "source": [
    "# Refresh token\n",
    "def get_refresh_token():\n",
    "    data = {\n",
    "        \"client_id\": client_id,\n",
    "        \"scope\": permissions,\n",
    "        \"refresh_token\": refresh_token,\n",
    "        \"redirect_uri\": redirect_uri,\n",
    "        \"grant_type\": 'refresh_token',\n",
    "        \"client_secret\": 'xxxx-yyyy-zzzz',\n",
    "    }\n",
    "\n",
    "    response = requests.post(URL, data=data)\n",
    "\n",
    "    token = json.loads(response.text)[\"access_token\"]\n",
    "    refresh_token = json.loads(response.text)[\"refresh_token\"]\n",
    "    last_updated = time.mktime(datetime.today().timetuple())\n",
    "\n",
    "    return token, refresh_token, last_updated"
   ]
  },
  {
   "cell_type": "code",
   "execution_count": null,
   "metadata": {},
   "outputs": [],
   "source": [
    "token, refresh_token, last_updated = get_refresh_token()"
   ]
  },
  {
   "source": [
    "If you have a large data to upload, you may use below mock code inside your upload loop:\n",
    "\n",
    "```python\n",
    "elapsed_time = time.mktime(datetime.today().timetuple()) - last_updated\n",
    "\n",
    "if (elapsed_time < 45*60*60):\n",
    "    do_something()\n",
    "else if (elapsed_time < 59*60*60):\n",
    "    token, refresh_token, last_updated = get_refresh_token()\n",
    "else:\n",
    "    go_to_code_flow()\n",
    "```"
   ],
   "cell_type": "markdown",
   "metadata": {}
  },
  {
   "source": [
    "## OneDrive operations"
   ],
   "cell_type": "markdown",
   "metadata": {}
  },
  {
   "cell_type": "code",
   "execution_count": null,
   "metadata": {},
   "outputs": [],
   "source": [
    "URL = 'https://graph.microsoft.com/v1.0/'\n",
    "\n",
    "HEADERS = {'Authorization': 'Bearer ' + token}\n",
    "\n",
    "response = requests.get(URL + 'me/drive/', headers = HEADERS)\n",
    "if (response.status_code == 200):\n",
    "    response = json.loads(response.text)\n",
    "    print('Connected to the OneDrive of', response['owner']['user']['displayName']+' (',response['driveType']+' ).', \\\n",
    "         '\\nConnection valid for one hour. Refresh token if required.')\n",
    "elif (response.status_code == 401):\n",
    "    response = json.loads(response.text)\n",
    "    print('API Error! : ', response['error']['code'],\\\n",
    "         '\\nSee response for more details.')\n",
    "else:\n",
    "    response = json.loads(response.text)\n",
    "    print('Unknown error! See response for more details.')"
   ]
  },
  {
   "cell_type": "markdown",
   "metadata": {},
   "source": [
    "### List folders unde root\n",
    "\n",
    "We will pring both directory names and item-d"
   ]
  },
  {
   "cell_type": "code",
   "execution_count": 4,
   "metadata": {},
   "outputs": [
    {
     "name": "stdout",
     "output_type": "stream",
     "text": [
      "Documents | item-id > C1465DBECD7188C9!103\n",
      "Pictures | item-id > C1465DBECD7188C9!104\n",
      "Getting started with OneDrive.pdf | item-id > C1465DBECD7188C9!102\n"
     ]
    }
   ],
   "source": [
    "items = json.loads(requests.get(URL + 'me/drive/root/children', headers=HEADERS).text)\n",
    "items = items['value']\n",
    "for entries in range(len(items)):\n",
    "    print(items[entries]['name'], '| item-id >', items[entries]['id'])"
   ]
  },
  {
   "cell_type": "markdown",
   "metadata": {},
   "source": [
    "### Create new folder (in the root directory)"
   ]
  },
  {
   "cell_type": "code",
   "execution_count": 5,
   "metadata": {},
   "outputs": [],
   "source": [
    "url = URL + 'me/drive/root/children/'\n",
    "body = {\n",
    "    \"name\": \"New_Folder\",\n",
    "    \"folder\": {},\n",
    "    \"@microsoft.graph.conflictBehavior\": \"rename\"\n",
    "}\n",
    "response = json.loads(requests.post(url, headers=HEADERS, json=body).text)"
   ]
  },
  {
   "cell_type": "markdown",
   "metadata": {},
   "source": [
    "Now lets list the directory again"
   ]
  },
  {
   "cell_type": "code",
   "execution_count": 6,
   "metadata": {},
   "outputs": [
    {
     "name": "stdout",
     "output_type": "stream",
     "text": [
      "Documents | item-id > C1465DBECD7188C9!103\n",
      "New_Folder | item-id > C1465DBECD7188C9!106\n",
      "Pictures | item-id > C1465DBECD7188C9!104\n",
      "Getting started with OneDrive.pdf | item-id > C1465DBECD7188C9!102\n"
     ]
    }
   ],
   "source": [
    "items = json.loads(requests.get(URL + 'me/drive/root/children', headers=HEADERS).text)\n",
    "items = items['value']\n",
    "for entries in range(len(items)):\n",
    "    print(items[entries]['name'], '| item-id >', items[entries]['id'])"
   ]
  },
  {
   "cell_type": "markdown",
   "metadata": {},
   "source": [
    "Here we go, we have successfully created the folder New_Folder."
   ]
  },
  {
   "cell_type": "markdown",
   "metadata": {},
   "source": [
    "#### List folders under a sub-folder (need to use item-id)\n",
    "Note that if you need to create or list sub-folders, you need to use the item-id. The path/folder notation does not work everywhere. "
   ]
  },
  {
   "cell_type": "code",
   "execution_count": 7,
   "metadata": {},
   "outputs": [],
   "source": [
    "url = URL + 'me/drive/items/C1465DBECD7188C9!106/children'\n",
    "items = json.loads(requests.get(url, headers=HEADERS).text)\n",
    "items = items['value']\n",
    "for entries in range(len(items)):\n",
    "    print(items[entries]['name'], '| item-id >', items[entries]['id'])"
   ]
  },
  {
   "cell_type": "markdown",
   "metadata": {},
   "source": [
    "Well there are no files or folders under the New_Folder. Ok let's create one. "
   ]
  },
  {
   "cell_type": "code",
   "execution_count": 9,
   "metadata": {},
   "outputs": [],
   "source": [
    "url = URL + 'me/drive/items/C1465DBECD7188C9!106/children/'\n",
    "data = {\n",
    "    \"name\": \"sub_folder\",\n",
    "    \"folder\": {},\n",
    "    \"@microsoft.graph.conflictBehavior\": \"rename\"\n",
    "}\n",
    "\n",
    "response = json.loads(requests.post(url, headers=HEADERS, json = data).text)"
   ]
  },
  {
   "cell_type": "markdown",
   "metadata": {},
   "source": [
    "Now let's print the list again. "
   ]
  },
  {
   "cell_type": "code",
   "execution_count": 10,
   "metadata": {},
   "outputs": [
    {
     "name": "stdout",
     "output_type": "stream",
     "text": [
      "sub_folder | item-id > C1465DBECD7188C9!107\n"
     ]
    }
   ],
   "source": [
    "url = URL + 'me/drive/items/C1465DBECD7188C9!106/children'\n",
    "items = json.loads(requests.get(url, headers=HEADERS).text)\n",
    "items = items['value']\n",
    "for entries in range(len(items)):\n",
    "    print(items[entries]['name'], '| item-id >', items[entries]['id'])"
   ]
  },
  {
   "source": [
    "### Move itme"
   ],
   "cell_type": "markdown",
   "metadata": {}
  },
  {
   "source": [
    "# url = URL + 'me/drive/items/{item-id-of-item-to-be-moved}'\n",
    "# provide item-id-of-destination-directory under parentReference in the body\n",
    "url = URL + 'me/drive/items/C1465DBECD7188C9!106'\n",
    "body = {\n",
    "  \"parentReference\": {\n",
    "    \"id\": \"C1465DBECD7188C9!103\"\n",
    "  },\n",
    "}\n",
    "response = json.loads(requests.patch(url, headers=HEADERS, json=body).text)"
   ],
   "cell_type": "code",
   "metadata": {},
   "execution_count": null,
   "outputs": []
  },
  {
   "cell_type": "markdown",
   "metadata": {},
   "source": [
    "### Rename an item"
   ]
  },
  {
   "cell_type": "code",
   "execution_count": 11,
   "metadata": {},
   "outputs": [],
   "source": [
    "url = URL + 'me/drive/items/C1465DBECD7188C9!106'\n",
    "body = {\n",
    "    \"name\": \"New_folder_2\",\n",
    "}\n",
    "response = json.loads(requests.patch(url, headers=HEADERS, json = body).text)"
   ]
  },
  {
   "cell_type": "code",
   "execution_count": 13,
   "metadata": {},
   "outputs": [
    {
     "name": "stdout",
     "output_type": "stream",
     "text": [
      "Documents | item-id > C1465DBECD7188C9!103\n",
      "New_folder_2 | item-id > C1465DBECD7188C9!106\n",
      "Pictures | item-id > C1465DBECD7188C9!104\n",
      "Getting started with OneDrive.pdf | item-id > C1465DBECD7188C9!102\n"
     ]
    }
   ],
   "source": [
    "url = URL + 'me/drive/items/root/children'\n",
    "items = json.loads(requests.get(url, headers=HEADERS).text)\n",
    "items = items['value']\n",
    "for entries in range(len(items)):\n",
    "    print(items[entries]['name'], '| item-id >', items[entries]['id'])"
   ]
  },
  {
   "cell_type": "markdown",
   "metadata": {},
   "source": [
    "#### Delete item"
   ]
  },
  {
   "cell_type": "code",
   "execution_count": 14,
   "metadata": {},
   "outputs": [
    {
     "name": "stdout",
     "output_type": "stream",
     "text": [
      "Are you sure to delete the Item? (Y/n):y\n",
      "Item gone! If need to recover, please check OneDrive Recycle Bin.\n"
     ]
    }
   ],
   "source": [
    "url = '/me/drive/items/C1465DBECD7188C9!106'\n",
    "url = URL + url\n",
    "confirmation = input('Are you sure to delete the Item? (Y/n):')\n",
    "if (confirmation.lower()=='y'): \n",
    "    response = requests.delete(url, headers=HEADERS)\n",
    "    if (response.status_code == 204):\n",
    "        print('Item gone! If need to recover, please check OneDrive Recycle Bin.')\n",
    "else: \n",
    "    print(\"Item not deleted.\")"
   ]
  },
  {
   "cell_type": "code",
   "execution_count": 15,
   "metadata": {},
   "outputs": [
    {
     "name": "stdout",
     "output_type": "stream",
     "text": [
      "Documents | item-id > C1465DBECD7188C9!103\n",
      "Pictures | item-id > C1465DBECD7188C9!104\n",
      "Getting started with OneDrive.pdf | item-id > C1465DBECD7188C9!102\n"
     ]
    }
   ],
   "source": [
    "url = URL + 'me/drive/items/root/children'\n",
    "items = json.loads(requests.get(url, headers=HEADERS).text)\n",
    "items = items['value']\n",
    "for entries in range(len(items)):\n",
    "    print(items[entries]['name'], '| item-id >', items[entries]['id'])"
   ]
  },
  {
   "cell_type": "markdown",
   "metadata": {},
   "source": [
    "#### Find item-id by item name"
   ]
  },
  {
   "cell_type": "code",
   "execution_count": 17,
   "metadata": {},
   "outputs": [
    {
     "name": "stdout",
     "output_type": "stream",
     "text": [
      "Item-id of Documents : C1465DBECD7188C9!103\n"
     ]
    }
   ],
   "source": [
    "items = json.loads(requests.get(URL + 'me/drive/items/root/children', headers=HEADERS).text)\n",
    "look_for_item = 'Documents'\n",
    "item_id = ''\n",
    "items = items['value']\n",
    "for entries in range(len(items)):\n",
    "    if(items[entries]['name'] == look_for_item):\n",
    "        item_id = items[entries]['id']\n",
    "        print('Item-id of', look_for_item, ':', item_id)\n",
    "        break\n",
    "if(item_id==''):\n",
    "            print(look_for_item, 'not found in the directory.')"
   ]
  },
  {
   "cell_type": "markdown",
   "metadata": {},
   "source": [
    "#### Upload file"
   ]
  },
  {
   "cell_type": "code",
   "execution_count": 18,
   "metadata": {},
   "outputs": [],
   "source": [
    "url = 'me/drive/root:/example_spectrum.txt:/content'\n",
    "url = URL + url\n",
    "content = open('example_spectrum.txt', 'rb')\n",
    "response = json.loads(requests.put(url, headers=HEADERS, data = content).text)"
   ]
  },
  {
   "cell_type": "code",
   "execution_count": 19,
   "metadata": {},
   "outputs": [
    {
     "name": "stdout",
     "output_type": "stream",
     "text": [
      "Documents | item-id > C1465DBECD7188C9!103\n",
      "Pictures | item-id > C1465DBECD7188C9!104\n",
      "example_spectrum.txt | item-id > C1465DBECD7188C9!108\n",
      "Getting started with OneDrive.pdf | item-id > C1465DBECD7188C9!102\n"
     ]
    }
   ],
   "source": [
    "url = URL + 'me/drive/items/root/children'\n",
    "items = json.loads(requests.get(url, headers=HEADERS).text)\n",
    "items = items['value']\n",
    "for entries in range(len(items)):\n",
    "    print(items[entries]['name'], '| item-id >', items[entries]['id'])"
   ]
  },
  {
   "cell_type": "markdown",
   "metadata": {},
   "source": [
    "### Access/Download data"
   ]
  },
  {
   "cell_type": "code",
   "execution_count": 22,
   "metadata": {},
   "outputs": [],
   "source": [
    "url = 'me/drive/root:/example_spectrum.txt:/content'\n",
    "url = URL + url\n",
    "data = requests.get(url, headers=HEADERS).text"
   ]
  },
  {
   "cell_type": "markdown",
   "metadata": {},
   "source": [
    "You may like to save the data in a file in your local drive. "
   ]
  },
  {
   "cell_type": "markdown",
   "metadata": {},
   "source": [
    "#### Upload large files (Can be used to upload small files as well)\n",
    "If you have files (probably larger than 4 MB), you need to create upload sessions."
   ]
  },
  {
   "cell_type": "code",
   "execution_count": 11,
   "metadata": {},
   "outputs": [],
   "source": [
    "url = 'me/drive/items/C1465DBECD7188C9!103:/large_file.dat:/createUploadSession'\n",
    "url = URL + url\n",
    "url = json.loads(requests.post(url, headers=HEADERS).text)\n",
    "url = url['uploadUrl']\n",
    "file_path = '/local/file/path/large_file.dat'\n",
    "file_size = os.path.getsize(file_path)\n",
    "chunk_size = 320*1024*10 # Has to be multiple of 320 kb\n",
    "no_of_uploads = file_size//chunk_size\n",
    "content_range_start = 0\n",
    "if file_size < chunk_size : \n",
    "    content_range_end = file_size\n",
    "else :\n",
    "    content_range_end = chunk_size - 1\n",
    "\n",
    "data = open(file_path, 'rb')\n",
    "while data.tell() < file_size:\n",
    "    if ((file_size - data.tell()) <= chunk_size):\n",
    "        content_range_end = file_size -1\n",
    "        headers = {'Content-Range' : 'bytes '+ str(content_range_start)+ '-' +str(content_range_end)+'/'+str(file_size)}\n",
    "        content = data.read(chunk_size)\n",
    "        response = json.loads(requests.put(url, headers=headers, data = content).text)\n",
    "    else:\n",
    "        headers = {'Content-Range' : 'bytes '+ str(content_range_start)+ '-' +str(content_range_end)+'/'+str(file_size)}\n",
    "        content = data.read(chunk_size)\n",
    "        response = json.loads(requests.put(url, headers=headers, data = content).text)\n",
    "        content_range_start = data.tell()\n",
    "        content_range_end = data.tell() + chunk_size - 1\n",
    "data.close()\n",
    "response2 = requests.delete(url)"
   ]
  },
  {
   "cell_type": "markdown",
   "metadata": {},
   "source": [
    "#### OneDrive storage usage"
   ]
  },
  {
   "cell_type": "code",
   "execution_count": 12,
   "metadata": {},
   "outputs": [
    {
     "name": "stdout",
     "output_type": "stream",
     "text": [
      "Using 0.48 GB ( 9.6 %) of total 5.0 GB.\n"
     ]
    }
   ],
   "source": [
    "response = json.loads(requests.get(URL + 'me/drive/', headers = HEADERS).text)\n",
    "used = round(response['quota']['used']/(1024*1024*1024), 2)\n",
    "total = round(response['quota']['total']/(1024*1024*1024), 2)\n",
    "print('Using', used, 'GB (', round(used*100/total, 2),'%) of total', total, 'GB.')"
   ]
  },
  {
   "cell_type": "code",
   "execution_count": null,
   "metadata": {},
   "outputs": [],
   "source": []
  }
 ],
 "metadata": {
  "kernelspec": {
   "display_name": "Python 3",
   "language": "python",
   "name": "python3"
  },
  "language_info": {
   "codemirror_mode": {
    "name": "ipython",
    "version": 3
   },
   "file_extension": ".py",
   "mimetype": "text/x-python",
   "name": "python",
   "nbconvert_exporter": "python",
   "pygments_lexer": "ipython3",
   "version": "3.7.3"
  }
 },
 "nbformat": 4,
 "nbformat_minor": 2
}